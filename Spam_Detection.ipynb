{
  "nbformat": 4,
  "nbformat_minor": 0,
  "metadata": {
    "kernelspec": {
      "display_name": "Python 3",
      "language": "python",
      "name": "python3"
    },
    "language_info": {
      "codemirror_mode": {
        "name": "ipython",
        "version": 3
      },
      "file_extension": ".py",
      "mimetype": "text/x-python",
      "name": "python",
      "nbconvert_exporter": "python",
      "pygments_lexer": "ipython3",
      "version": "3.7.4"
    },
    "colab": {
      "name": "Wakhri_Science_Project.ipynb",
      "provenance": [],
      "collapsed_sections": []
    }
  },
  "cells": [
    {
      "cell_type": "code",
      "metadata": {
        "colab": {
          "base_uri": "https://localhost:8080/"
        },
        "id": "Z0VZOLVFklfT",
        "outputId": "8cb7ba8e-f413-4f15-81c8-2532fa695464"
      },
      "source": [
        "# Integrating Goodle Colab with Drive\n",
        "from google.colab import drive\n",
        "drive.mount('/content/drive')\n",
        "\n",
        "# Getting to the Desired Directory\n",
        "%cd \"drive/My Drive/Colab Notebooks/Project/Checkpoint3\"\n",
        "!ls"
      ],
      "execution_count": null,
      "outputs": [
        {
          "output_type": "stream",
          "text": [
            "Mounted at /content/drive\n",
            "/content/drive/.shortcut-targets-by-id/1lFTpgNpg9y3aGABPDNbbG78Biwc6ZPog/Project/Checkpoint3\n",
            "comment.png  Dataset  Wakhri_Science_Project.ipynb\n"
          ],
          "name": "stdout"
        }
      ]
    },
    {
      "cell_type": "code",
      "metadata": {
        "id": "_bpcI6m_kZPL"
      },
      "source": [
        "# Importing Required libraries\n",
        "import csv\n",
        "import re\n",
        "import string\n",
        "import pandas as pd\n",
        "from scipy.spatial import distance\n",
        "import numpy as np\n",
        "import statistics \n",
        "import matplotlib.pyplot as plt\n",
        "import json\n",
        "from sklearn import metrics\n",
        "import glob\n",
        "import os\n",
        "import nltk\n",
        "from nltk.corpus import stopwords\n",
        "import os\n",
        "from wordcloud import WordCloud\n",
        "from PIL import Image"
      ],
      "execution_count": 58,
      "outputs": []
    },
    {
      "cell_type": "code",
      "metadata": {
        "colab": {
          "base_uri": "https://localhost:8080/"
        },
        "id": "MUGuV7UfmUMC",
        "outputId": "91a1c78b-e2af-4ab3-ced3-44fb490c2a28"
      },
      "source": [
        "# Downloading NLTK's (Natural Language Toolkit) stopwords collection\n",
        "nltk.download('stopwords')\n",
        "print(stopwords.words('english'))"
      ],
      "execution_count": 59,
      "outputs": [
        {
          "output_type": "stream",
          "text": [
            "[nltk_data] Downloading package stopwords to /root/nltk_data...\n",
            "[nltk_data]   Package stopwords is already up-to-date!\n",
            "['i', 'me', 'my', 'myself', 'we', 'our', 'ours', 'ourselves', 'you', \"you're\", \"you've\", \"you'll\", \"you'd\", 'your', 'yours', 'yourself', 'yourselves', 'he', 'him', 'his', 'himself', 'she', \"she's\", 'her', 'hers', 'herself', 'it', \"it's\", 'its', 'itself', 'they', 'them', 'their', 'theirs', 'themselves', 'what', 'which', 'who', 'whom', 'this', 'that', \"that'll\", 'these', 'those', 'am', 'is', 'are', 'was', 'were', 'be', 'been', 'being', 'have', 'has', 'had', 'having', 'do', 'does', 'did', 'doing', 'a', 'an', 'the', 'and', 'but', 'if', 'or', 'because', 'as', 'until', 'while', 'of', 'at', 'by', 'for', 'with', 'about', 'against', 'between', 'into', 'through', 'during', 'before', 'after', 'above', 'below', 'to', 'from', 'up', 'down', 'in', 'out', 'on', 'off', 'over', 'under', 'again', 'further', 'then', 'once', 'here', 'there', 'when', 'where', 'why', 'how', 'all', 'any', 'both', 'each', 'few', 'more', 'most', 'other', 'some', 'such', 'no', 'nor', 'not', 'only', 'own', 'same', 'so', 'than', 'too', 'very', 's', 't', 'can', 'will', 'just', 'don', \"don't\", 'should', \"should've\", 'now', 'd', 'll', 'm', 'o', 're', 've', 'y', 'ain', 'aren', \"aren't\", 'couldn', \"couldn't\", 'didn', \"didn't\", 'doesn', \"doesn't\", 'hadn', \"hadn't\", 'hasn', \"hasn't\", 'haven', \"haven't\", 'isn', \"isn't\", 'ma', 'mightn', \"mightn't\", 'mustn', \"mustn't\", 'needn', \"needn't\", 'shan', \"shan't\", 'shouldn', \"shouldn't\", 'wasn', \"wasn't\", 'weren', \"weren't\", 'won', \"won't\", 'wouldn', \"wouldn't\"]\n"
          ],
          "name": "stdout"
        }
      ]
    },
    {
      "cell_type": "code",
      "metadata": {
        "id": "p2zgI4VMmLgB"
      },
      "source": [
        "# Reading the dataset\n",
        "dataset = pd.read_csv('/content/spam.csv',delimiter=',',encoding='latin-1') # <<<=== what is this 'enconding = latin-1'"
      ],
      "execution_count": 60,
      "outputs": []
    },
    {
      "cell_type": "code",
      "metadata": {
        "id": "2q7V-FGKkZPP"
      },
      "source": [
        "# Removing empty fields\n",
        "del dataset['Unnamed: 2']\n",
        "del dataset['Unnamed: 3']\n",
        "del dataset['Unnamed: 4']"
      ],
      "execution_count": 61,
      "outputs": []
    },
    {
      "cell_type": "code",
      "metadata": {
        "id": "L8OX-w8EKIxs"
      },
      "source": [
        "# Renaming columns for our understanding\n",
        "# dataset.rename(columns={\"v1\":\"class\", \"v2\":\"content\"},inplace=True)"
      ],
      "execution_count": 62,
      "outputs": []
    },
    {
      "cell_type": "code",
      "metadata": {
        "id": "CO3McGKypKom"
      },
      "source": [
        "# Removing Stop Words\n",
        "stopwords = set(stopwords.words('english'))\n",
        "\n",
        "for i in range (len(dataset['v2'])):\n",
        "    dataset['v2'][i] = (' '.join([word for word in dataset['v2'][i].split() if word not in stopwords]))\n",
        "    dataset['v2'][i] = re.sub(\"[0-9]\", \"\", dataset['v2'][i])"
      ],
      "execution_count": 63,
      "outputs": []
    },
    {
      "cell_type": "code",
      "metadata": {
        "id": "PDzPptoAkZPP"
      },
      "source": [
        "# Removing punctuation\n",
        "dataset_with_punctuation = dataset.copy()\n",
        "dataset['v2'] = dataset['v2'].str.replace('[^\\w\\s]','')\n",
        "dataset['v2'] = dataset['v2'].str.lower() \n",
        "\n",
        "#dataset['v2'] = dataset['v2'].str.replace(/[^A-Za-z']/g, \"\")"
      ],
      "execution_count": 64,
      "outputs": []
    },
    {
      "cell_type": "code",
      "metadata": {
        "id": "i8VOCCijkZPP",
        "colab": {
          "base_uri": "https://localhost:8080/"
        },
        "outputId": "bb8cf267-cf53-4dca-a217-51eccac2378d"
      },
      "source": [
        "# Doing EDA (Exploratory Data Analysis)\n",
        "# We will take a look at the Dataset from different perspective\n",
        "# Below are some simple attributesof the Dataset\n",
        "print(\"Dataset ...\\n\",dataset,\"\\n\\n\\ndataset.info() ...\\n\")\n",
        "print(dataset.info(),\"\\n\\n\\ndataset.describe() ...\\n\")\n",
        "print(dataset.describe(),\"\\n\\n\\ndataset.value_counts() ...\\n\")\n",
        "print(dataset.v1.value_counts(),\"\\n\\n\\ndataset.groupby('v1').describe() ...\\n\")\n",
        "print(dataset.groupby('v1').describe())"
      ],
      "execution_count": 65,
      "outputs": [
        {
          "output_type": "stream",
          "text": [
            "Dataset ...\n",
            "         v1                                                 v2\n",
            "0      ham  go jurong point crazy available bugis n great ...\n",
            "1      ham                            ok lar joking wif u oni\n",
            "2     spam  free entry  wkly comp win fa cup final tkts st...\n",
            "3      ham                u dun say early hor u c already say\n",
            "4      ham           nah i think goes usf lives around though\n",
            "...    ...                                                ...\n",
            "5567  spam  this nd time tried  contact u u å pound prize ...\n",
            "5568   ham                  will ì_ b going esplanade fr home\n",
            "5569   ham                  pity  mood that soany suggestions\n",
            "5570   ham  the guy bitching i acted like id interested bu...\n",
            "5571   ham                                 rofl its true name\n",
            "\n",
            "[5572 rows x 2 columns] \n",
            "\n",
            "\n",
            "dataset.info() ...\n",
            "\n",
            "<class 'pandas.core.frame.DataFrame'>\n",
            "RangeIndex: 5572 entries, 0 to 5571\n",
            "Data columns (total 2 columns):\n",
            " #   Column  Non-Null Count  Dtype \n",
            "---  ------  --------------  ----- \n",
            " 0   v1      5572 non-null   object\n",
            " 1   v2      5572 non-null   object\n",
            "dtypes: object(2)\n",
            "memory usage: 87.2+ KB\n",
            "None \n",
            "\n",
            "\n",
            "dataset.describe() ...\n",
            "\n",
            "          v1                    v2\n",
            "count   5572                  5572\n",
            "unique     2                  5105\n",
            "top      ham  sorry ill call later\n",
            "freq    4825                    30 \n",
            "\n",
            "\n",
            "dataset.value_counts() ...\n",
            "\n",
            "ham     4825\n",
            "spam     747\n",
            "Name: v1, dtype: int64 \n",
            "\n",
            "\n",
            "dataset.groupby('v1').describe() ...\n",
            "\n",
            "        v2                                                               \n",
            "     count unique                                                top freq\n",
            "v1                                                                       \n",
            "ham   4825   4499                               sorry ill call later   30\n",
            "spam   747    606  please call customer service representative fr...    4\n"
          ],
          "name": "stdout"
        }
      ]
    },
    {
      "cell_type": "code",
      "metadata": {
        "id": "qKHGeTT46PLc"
      },
      "source": [
        "# We'll start with an interesting visualization\n",
        "# We want to visualize the most used words in spam and ham messages"
      ],
      "execution_count": 66,
      "outputs": []
    },
    {
      "cell_type": "code",
      "metadata": {
        "id": "LDKLjSZ96mIW"
      },
      "source": [
        "# Lets start with most used words in spam messages\n",
        "# # only_spam = dataset_with_punctuation[(dataset_with_punctuation[\"v1\"] == \"spam\") ]\n",
        "# # print(only_spam.head(10))\n",
        "# spam_list = dataset[(dataset[\"v1\"] == \"spam\") ]['v2'].tolist()\n",
        "# print(spam_list)\n",
        "# # content_mask = np.array(Image.open(\"comment.png\"))\n",
        "# # Creating a Word Cloud Image\n",
        "# wordcloud = WordCloud(max_font_size = 160, margin=0, background_color = \"white\", colormap=\"Reds\").generate(spam_list)"
      ],
      "execution_count": 67,
      "outputs": []
    },
    {
      "cell_type": "code",
      "metadata": {
        "id": "8pK_qqkwLNty",
        "colab": {
          "base_uri": "https://localhost:8080/"
        },
        "outputId": "b8ce64fe-a096-40e9-dfa4-7018178e2e9c"
      },
      "source": [
        "# Lets get the information about the lengths of each email calss\n",
        "# We will add length property to the dataset\n",
        "dataset['length'] = dataset['v2'].apply(len)\n",
        "print(dataset.head())"
      ],
      "execution_count": 68,
      "outputs": [
        {
          "output_type": "stream",
          "text": [
            "     v1                                                 v2  length\n",
            "0   ham  go jurong point crazy available bugis n great ...      82\n",
            "1   ham                            ok lar joking wif u oni      23\n",
            "2  spam  free entry  wkly comp win fa cup final tkts st...     110\n",
            "3   ham                u dun say early hor u c already say      35\n",
            "4   ham           nah i think goes usf lives around though      40\n"
          ],
          "name": "stdout"
        }
      ]
    },
    {
      "cell_type": "code",
      "metadata": {
        "id": "mIs-T3CzqFvE",
        "colab": {
          "base_uri": "https://localhost:8080/",
          "height": 283
        },
        "outputId": "0de1b3fe-ddcf-4552-a264-e936b536a08a"
      },
      "source": [
        "# Lets plot look at the length property as a graph\n",
        "dataset['length'].plot(bins=10, kind='hist') \n"
      ],
      "execution_count": 69,
      "outputs": [
        {
          "output_type": "execute_result",
          "data": {
            "text/plain": [
              "<matplotlib.axes._subplots.AxesSubplot at 0x7f138a044cc0>"
            ]
          },
          "metadata": {
            "tags": []
          },
          "execution_count": 69
        },
        {
          "output_type": "display_data",
          "data": {
            "image/png": "[encoded data removed]",
            "text/plain": [
              "<Figure size 432x288 with 1 Axes>"
            ]
          },
          "metadata": {
            "tags": [],
            "needs_background": "light"
          }
        }
      ]
    },
    {
      "cell_type": "code",
      "metadata": {
        "id": "5bgOQwK_N1QN",
        "colab": {
          "base_uri": "https://localhost:8080/",
          "height": 341
        },
        "outputId": "9f7a3e27-3545-4d7a-c0a8-23d2fbd61e61"
      },
      "source": [
        "# As the length property looks normally distributed, lets look deeply into this <=== normally disributed kesey hey ye ?\n",
        "# We'll check if the length has any relation with the message category\n",
        "dataset.hist(column='length', by='v1', bins=50,figsize=(12,4))"
      ],
      "execution_count": 70,
      "outputs": [
        {
          "output_type": "execute_result",
          "data": {
            "text/plain": [
              "array([<matplotlib.axes._subplots.AxesSubplot object at 0x7f13960e6be0>,\n",
              "       <matplotlib.axes._subplots.AxesSubplot object at 0x7f1389b00f28>],\n",
              "      dtype=object)"
            ]
          },
          "metadata": {
            "tags": []
          },
          "execution_count": 70
        },
        {
          "output_type": "display_data",
          "data": {
            "image/png": "[encoded data removed]",
            "text/plain": [
              "<Figure size 864x288 with 2 Axes>"
            ]
          },
          "metadata": {
            "tags": [],
            "needs_background": "light"
          }
        }
      ]
    },
    {
      "cell_type": "code",
      "metadata": {
        "id": "8RdhVlSdOUU7"
      },
      "source": [
        "# This is amazing, we can see a direct relation between length and message category."
      ],
      "execution_count": 71,
      "outputs": []
    },
    {
      "cell_type": "code",
      "metadata": {
        "id": "lDgD7X3ugLth",
        "colab": {
          "base_uri": "https://localhost:8080/"
        },
        "outputId": "12c373b5-27b3-4e13-a51d-35c019b3159e"
      },
      "source": [
        "# Lets look at the mean lengths of the ham and spam sms\n",
        "ham_mean = dataset[dataset[\"v1\"] == \"ham\"][\"length\"].mean()\n",
        "spam_mean = dataset[dataset[\"v1\"] == \"spam\"][\"length\"].mean()\n",
        "\n",
        "print(\"mean length of ham messages ... \",ham_mean)\n",
        "print(\"mean length of spam messages ... \",spam_mean)"
      ],
      "execution_count": 72,
      "outputs": [
        {
          "output_type": "stream",
          "text": [
            "mean length of ham messages ...  49.92331606217616\n",
            "mean length of spam messages ...  97.07496653279786\n"
          ],
          "name": "stdout"
        }
      ]
    },
    {
      "cell_type": "code",
      "metadata": {
        "id": "ldOJyDeZsFVo"
      },
      "source": [
        "# Clearly, the spam messages have a longer length as compared to the ham messages"
      ],
      "execution_count": 73,
      "outputs": []
    },
    {
      "cell_type": "code",
      "metadata": {
        "id": "Ze8f_bxBfZy2"
      },
      "source": [
        "# Lets find some other property of the dataset related to the sms being ham or spam\n",
        "# We feel that exclamation marks are quite common in spam messages.\n",
        "# Lets see if there's a relation between number of exclamation marks and sms being spam or ham\n",
        "# For that purpose, we have to calculate the number of exclamation marks in a sms"
      ],
      "execution_count": 74,
      "outputs": []
    },
    {
      "cell_type": "code",
      "metadata": {
        "colab": {
          "base_uri": "https://localhost:8080/"
        },
        "id": "e2KzcD5hfzyW",
        "outputId": "2b248398-1f9d-4434-ab43-64f4052b81a2"
      },
      "source": [
        "# Finding number of exclamation marks in each sms (for this purpose, we'll use the dataset with punctuation)\n",
        "exclamation_marks_count = []\n",
        "for sms in dataset_with_punctuation['v2']:\n",
        "  count = 0\n",
        "  for letter in sms:\n",
        "    if letter == \"!\":\n",
        "      count += 1\n",
        "  exclamation_marks_count.append(count)\n",
        "  \n",
        "# We'll add the varible em_count into our dataset to process further\n",
        "dataset_with_punctuation[\"em_count\"] = exclamation_marks_count\n",
        "print(dataset_with_punctuation.head(10))"
      ],
      "execution_count": 75,
      "outputs": [
        {
          "output_type": "stream",
          "text": [
            "     v1                                                 v2  em_count\n",
            "0   ham  Go jurong point, crazy.. Available bugis n gre...         0\n",
            "1   ham                      Ok lar... Joking wif u oni...         0\n",
            "2  spam  Free entry  wkly comp win FA Cup final tkts st...         0\n",
            "3   ham          U dun say early hor... U c already say...         0\n",
            "4   ham          Nah I think goes usf, lives around though         0\n",
            "5  spam  FreeMsg Hey darling  week's word back! I'd lik...         2\n",
            "6   ham  Even brother like speak me. They treat like ai...         0\n",
            "7   ham  As per request 'Melle Melle (Oru Minnaminungin...         0\n",
            "8  spam  WINNER!! As valued network customer selected r...         3\n",
            "9  spam  Had mobile  months more? U R entitled Update l...         1\n"
          ],
          "name": "stdout"
        }
      ]
    },
    {
      "cell_type": "code",
      "metadata": {
        "colab": {
          "base_uri": "https://localhost:8080/",
          "height": 335
        },
        "id": "g0w2jLeKsTkP",
        "outputId": "be011846-d0a3-4474-cc67-961d4761780b"
      },
      "source": [
        "# Lets look at the distribution of ! count in both sms categories\n",
        "dataset_with_punctuation.hist(column='em_count', by='v1', bins=25,figsize=(12,4))"
      ],
      "execution_count": 76,
      "outputs": [
        {
          "output_type": "execute_result",
          "data": {
            "text/plain": [
              "array([<matplotlib.axes._subplots.AxesSubplot object at 0x7f138999d390>,\n",
              "       <matplotlib.axes._subplots.AxesSubplot object at 0x7f1389951d68>],\n",
              "      dtype=object)"
            ]
          },
          "metadata": {
            "tags": []
          },
          "execution_count": 76
        },
        {
          "output_type": "display_data",
          "data": {
            "image/png": "[encoded data removed]",
            "text/plain": [
              "<Figure size 864x288 with 2 Axes>"
            ]
          },
          "metadata": {
            "tags": [],
            "needs_background": "light"
          }
        }
      ]
    },
    {
      "cell_type": "code",
      "metadata": {
        "id": "eZeEsvFTt7Jh"
      },
      "source": [
        "# We can see that the graph of spam is more to the right than ham. So, there is some relation of ! with spam.\n",
        "# Lets explore more with some numbers"
      ],
      "execution_count": 77,
      "outputs": []
    },
    {
      "cell_type": "code",
      "metadata": {
        "id": "9tbULPNdlC1Y",
        "colab": {
          "base_uri": "https://localhost:8080/"
        },
        "outputId": "3aa699de-078e-45a9-a314-63bb14401d1f"
      },
      "source": [
        "# We can look at the mean count of exclaimation marks in the ham and spam sms\n",
        "ham_mean = dataset_with_punctuation[dataset_with_punctuation[\"v1\"] == \"ham\"][\"em_count\"].mean()\n",
        "spam_mean = dataset_with_punctuation[dataset_with_punctuation[\"v1\"] == \"spam\"][\"em_count\"].mean()\n",
        "\n",
        "\n",
        "# We can look at the Percentage of sms containing ! in each category\n",
        "ham_emcount = dataset_with_punctuation[(dataset_with_punctuation[\"v1\"] == \"ham\") & (dataset_with_punctuation[\"em_count\"] != 0)][\"em_count\"].size\n",
        "spam_emcount = dataset_with_punctuation[(dataset_with_punctuation[\"v1\"] == \"spam\") & (dataset_with_punctuation[\"em_count\"] != 0)][\"em_count\"].size\n",
        "ham_count = dataset_with_punctuation[(dataset_with_punctuation[\"v1\"] == \"ham\") ].size\n",
        "spam_count = dataset_with_punctuation[(dataset_with_punctuation[\"v1\"] == \"spam\") ].size\n",
        "\n",
        "\n",
        "print(\"mean count of ! in ham messages ... \",ham_mean)\n",
        "print(\"mean count of ! in spam messages ... \",spam_mean)\n",
        "# print(\"number of ham messages with ! ... \",ham_emcount)\n",
        "# print(\"number of spam messages with ! ... \",spam_emcount)\n",
        "# print(\"number of ham messages ... \",ham_count)\n",
        "# print(\"number of spam messages ... \",spam_count)\n",
        "print(\"Percentage of ham sms containing ! ... \", (ham_emcount/ham_count)*100)\n",
        "print(\"Percentage of spam sms containing ! ... \",(spam_emcount/ spam_count)*100)\n",
        "\n",
        "# The mean count of ! in spam messages is 4 times greater than mean count of ! in ham messages\n",
        "# Moreover, the Percentage of spam sms containing ! is 4 times greater than Percentage of ham sms containg !\n",
        "# So, we can say that a message containing ! is 4x more probable to be a spam than a message without !\n"
      ],
      "execution_count": 78,
      "outputs": [
        {
          "output_type": "stream",
          "text": [
            "mean count of ! in ham messages ...  0.1738860103626943\n",
            "mean count of ! in spam messages ...  0.7255689424364123\n",
            "Percentage of ham sms containing ! ...  3.861830742659758\n",
            "Percentage of spam sms containing ! ...  16.28737170905846\n"
          ],
          "name": "stdout"
        }
      ]
    },
    {
      "cell_type": "code",
      "metadata": {
        "id": "ypnhSv1qn15c"
      },
      "source": [
        "from sklearn.feature_extraction.text import CountVectorizer\n",
        "cv = CountVectorizer()\n",
        "X = cv.fit_transform(dataset[\"v2\"])\n"
      ],
      "execution_count": 79,
      "outputs": []
    },
    {
      "cell_type": "code",
      "metadata": {
        "id": "oTTs2J3dbFVQ",
        "colab": {
          "base_uri": "https://localhost:8080/"
        },
        "outputId": "4531e57f-2dee-4c2d-c510-6fd6423931a2"
      },
      "source": [
        "from sklearn.model_selection import train_test_split\n",
        "X_train, X_test, y_train, y_test = train_test_split(X, dataset[\"v1\"], test_size = 0.20, random_state = 0)\n",
        "print(\"X_train shape: {}\\n X_test shape: {}\\nY_train shape: {}\\nY_test shape: {}\".format(X_train.shape,X_test.shape,y_train.shape,y_test.shape))"
      ],
      "execution_count": 80,
      "outputs": [
        {
          "output_type": "stream",
          "text": [
            "X_train shape: (4457, 8578)\n",
            " X_test shape: (1115, 8578)\n",
            "Y_train shape: (4457,)\n",
            "Y_test shape: (1115,)\n"
          ],
          "name": "stdout"
        }
      ]
    },
    {
      "cell_type": "code",
      "metadata": {
        "id": "7mEmkcgBbL3P"
      },
      "source": [
        ""
      ],
      "execution_count": 80,
      "outputs": []
    },
    {
      "cell_type": "code",
      "metadata": {
        "id": "n5_4DqOBbbfv"
      },
      "source": [
        "acc_arr=[]\n",
        "# Now, we will train and test different ML algorithms to get the most accurate one"
      ],
      "execution_count": 102,
      "outputs": []
    },
    {
      "cell_type": "code",
      "metadata": {
        "id": "WKGf7uiCe9fR"
      },
      "source": [
        "# We'll start with Naive Bayes"
      ],
      "execution_count": 82,
      "outputs": []
    },
    {
      "cell_type": "code",
      "metadata": {
        "colab": {
          "base_uri": "https://localhost:8080/"
        },
        "id": "7L1l6aePbjOL",
        "outputId": "1e60f69e-307e-4739-ce2c-8287650724fe"
      },
      "source": [
        "#Using Naive Bayes Multinomial to predict class.\n",
        "from sklearn.metrics import accuracy_score,classification_report\n",
        "from sklearn.naive_bayes import MultinomialNB\n",
        "\n",
        "\n",
        "# Create a Multinomial Naive Bayes model and fit on our training data\n",
        "model = MultinomialNB().fit(X_train, y_train)\n",
        "pred=model.predict(X_test)\n",
        "accuracy=accuracy_score(y_test,pred)\n",
        "classification_rep=classification_report(y_test,pred)\n",
        "\n",
        "print('Classification Report: ','\\n\\n',classification_rep)\n",
        "print(\"Accuracy of Naive Bayes Classifier is: \",accuracy)\n",
        "acc_arr.append(accuracy)"
      ],
      "execution_count": 103,
      "outputs": [
        {
          "output_type": "stream",
          "text": [
            "Classification Report:  \n",
            "\n",
            "               precision    recall  f1-score   support\n",
            "\n",
            "         ham       0.99      0.98      0.98       949\n",
            "        spam       0.88      0.94      0.91       166\n",
            "\n",
            "    accuracy                           0.97      1115\n",
            "   macro avg       0.93      0.96      0.95      1115\n",
            "weighted avg       0.97      0.97      0.97      1115\n",
            "\n",
            "Accuracy of Naive Bayes Classifier is:  0.9713004484304932\n"
          ],
          "name": "stdout"
        }
      ]
    },
    {
      "cell_type": "code",
      "metadata": {
        "id": "uFl1OaMmbjws"
      },
      "source": [
        "# Lets check the Accuracy of other Algorithms\n",
        "# The method is same for other algorithms as well.\n",
        "# We'll import necessary libraries, fit the model on the training data, test it and check the accuracy.\n",
        "\n",
        "# Lets go with LOGISTIC ReGRESSION"
      ],
      "execution_count": 84,
      "outputs": []
    },
    {
      "cell_type": "code",
      "metadata": {
        "colab": {
          "base_uri": "https://localhost:8080/"
        },
        "id": "Rd-gt21AdCMw",
        "outputId": "f22d9e03-4d1b-4c9a-dad6-37822acf908b"
      },
      "source": [
        "# Using Logistic regression to predict class.\n",
        "from sklearn.linear_model import LogisticRegression\n",
        "LR=LogisticRegression()\n",
        "model=LR.fit(X_train,y_train)\n",
        "pred = model.predict(X_test)\n",
        "accuracy=accuracy_score(y_test,pred)\n",
        "classification_rep=classification_report(y_test,pred)\n",
        "print('Classification Report: ','\\n\\n',classification_rep)\n",
        "print(\"Accuracy of Logistic Regression classifier is: \",accuracy)\n",
        "acc_arr.append(accuracy)"
      ],
      "execution_count": 104,
      "outputs": [
        {
          "output_type": "stream",
          "text": [
            "Classification Report:  \n",
            "\n",
            "               precision    recall  f1-score   support\n",
            "\n",
            "         ham       0.98      1.00      0.99       949\n",
            "        spam       0.99      0.86      0.92       166\n",
            "\n",
            "    accuracy                           0.98      1115\n",
            "   macro avg       0.98      0.93      0.96      1115\n",
            "weighted avg       0.98      0.98      0.98      1115\n",
            "\n",
            "Accuracy of Logistic Regression classifier is:  0.97847533632287\n"
          ],
          "name": "stdout"
        }
      ]
    },
    {
      "cell_type": "code",
      "metadata": {
        "id": "lb-MTBCxdCqs"
      },
      "source": [
        "# Lets try Support Vector Machine (SVM)"
      ],
      "execution_count": 86,
      "outputs": []
    },
    {
      "cell_type": "code",
      "metadata": {
        "colab": {
          "base_uri": "https://localhost:8080/"
        },
        "id": "01eu9NXLdMmI",
        "outputId": "c3c85ad1-8c3f-4732-84fa-5004a42e98ce"
      },
      "source": [
        "from sklearn import svm\n",
        "clf = svm.SVC(kernel='linear')\n",
        "model=clf.fit(X_train, y_train) \n",
        "pred = model.predict(X_test)\n",
        "accuracy=accuracy_score(y_test,pred)\n",
        "classification_rep=classification_report(y_test,pred)\n",
        "print('Classification Report: ','\\n\\n',classification_rep)\n",
        "print(\"Accuracy of Support vector machine is: \",accuracy)\n",
        "acc_arr.append(accuracy)"
      ],
      "execution_count": 105,
      "outputs": [
        {
          "output_type": "stream",
          "text": [
            "Classification Report:  \n",
            "\n",
            "               precision    recall  f1-score   support\n",
            "\n",
            "         ham       0.98      1.00      0.99       949\n",
            "        spam       0.99      0.88      0.93       166\n",
            "\n",
            "    accuracy                           0.98      1115\n",
            "   macro avg       0.99      0.94      0.96      1115\n",
            "weighted avg       0.98      0.98      0.98      1115\n",
            "\n",
            "Accuracy of Support vector machine is:  0.9811659192825112\n"
          ],
          "name": "stdout"
        }
      ]
    },
    {
      "cell_type": "code",
      "metadata": {
        "id": "9hqSyrl6dNIz"
      },
      "source": [
        "# Random Forest Classifier is also a good ML algorithm"
      ],
      "execution_count": 88,
      "outputs": []
    },
    {
      "cell_type": "code",
      "metadata": {
        "colab": {
          "base_uri": "https://localhost:8080/"
        },
        "id": "K7JbLOALdf4s",
        "outputId": "6b8eeb6c-e7b9-4d74-f3d8-6eaf23840348"
      },
      "source": [
        "# Using Random Forest classifier to predict classes.\n",
        "from sklearn.ensemble import RandomForestClassifier\n",
        "Random_forest = RandomForestClassifier(n_estimators=50)\n",
        "model=Random_forest.fit(X_train,y_train)\n",
        "pred = model.predict(X_test)\n",
        "accuracy=accuracy_score(y_test,pred)\n",
        "classification_rep=classification_report(y_test,pred)\n",
        "print('Classification Report: ','\\n\\n',classification_rep)\n",
        "print(\"Accuracy of Random Forest Classifier is: \",accuracy)\n",
        "acc_arr.append(accuracy)"
      ],
      "execution_count": 106,
      "outputs": [
        {
          "output_type": "stream",
          "text": [
            "Classification Report:  \n",
            "\n",
            "               precision    recall  f1-score   support\n",
            "\n",
            "         ham       0.96      1.00      0.98       949\n",
            "        spam       1.00      0.79      0.88       166\n",
            "\n",
            "    accuracy                           0.97      1115\n",
            "   macro avg       0.98      0.89      0.93      1115\n",
            "weighted avg       0.97      0.97      0.97      1115\n",
            "\n",
            "Accuracy of Random Forest Classifier is:  0.968609865470852\n"
          ],
          "name": "stdout"
        }
      ]
    },
    {
      "cell_type": "code",
      "metadata": {
        "colab": {
          "base_uri": "https://localhost:8080/"
        },
        "id": "7_rt7L3YJgo4",
        "outputId": "ddf55cd2-5540-4a7d-e494-8c4e4ad6c09d"
      },
      "source": [
        "# Using Decision Trees to predict class\n",
        "from sklearn import tree\n",
        "clf = tree.DecisionTreeClassifier()\n",
        "model = clf.fit(X_train, y_train)\n",
        "pred=model.predict(X_test)\n",
        "accuracy=accuracy_score(y_test,pred)\n",
        "classification_rep=classification_report(y_test,pred)\n",
        "print('Classification Report: ','\\n\\n',classification_rep)\n",
        "print(\"Accuracy of Decision Tree Classifier is: \",accuracy)\n",
        "acc_arr.append(accuracy)"
      ],
      "execution_count": 107,
      "outputs": [
        {
          "output_type": "stream",
          "text": [
            "Classification Report:  \n",
            "\n",
            "               precision    recall  f1-score   support\n",
            "\n",
            "         ham       0.97      0.99      0.98       949\n",
            "        spam       0.93      0.82      0.87       166\n",
            "\n",
            "    accuracy                           0.96      1115\n",
            "   macro avg       0.95      0.90      0.92      1115\n",
            "weighted avg       0.96      0.96      0.96      1115\n",
            "\n",
            "Accuracy of Decision Tree Classifier is:  0.9632286995515695\n"
          ],
          "name": "stdout"
        }
      ]
    },
    {
      "cell_type": "code",
      "metadata": {
        "id": "dyWCs9BCdgWO"
      },
      "source": [
        "# Lets check last algorithm to decide the most accurate one: KNN"
      ],
      "execution_count": null,
      "outputs": []
    },
    {
      "cell_type": "code",
      "metadata": {
        "colab": {
          "base_uri": "https://localhost:8080/"
        },
        "id": "8nNKMCdddqb2",
        "outputId": "25460d10-d25c-4f8b-9cef-ed7923bc377a"
      },
      "source": [
        "# Using K-nearest neighbors classifier, using k values from 1 to 9\n",
        "from sklearn.neighbors import KNeighborsClassifier\n",
        "k_values=[1,3,5,7,9]\n",
        "knn_acc=[]\n",
        "for i in k_values:\n",
        "    knn=KNeighborsClassifier(n_neighbors = i)\n",
        "    model=knn.fit(X_train,y_train)\n",
        "    pred = model.predict(X_test)\n",
        "    accuracy=accuracy_score(y_test,pred)\n",
        "    print(\"Accuracy of KNN Classifier with k value %s: \" %i,accuracy)\n",
        "    knn_acc.append(accuracy)\n",
        "mx=max(knn_acc)\n",
        "acc_arr.append(mx)"
      ],
      "execution_count": 108,
      "outputs": [
        {
          "output_type": "stream",
          "text": [
            "Accuracy of KNN Classifier with k value 1:  0.9497757847533632\n",
            "Accuracy of KNN Classifier with k value 3:  0.9273542600896861\n",
            "Accuracy of KNN Classifier with k value 5:  0.9121076233183857\n",
            "Accuracy of KNN Classifier with k value 7:  0.9022421524663677\n",
            "Accuracy of KNN Classifier with k value 9:  0.895067264573991\n"
          ],
          "name": "stdout"
        }
      ]
    },
    {
      "cell_type": "code",
      "metadata": {
        "colab": {
          "base_uri": "https://localhost:8080/",
          "height": 617
        },
        "id": "65o4tcY1dsZ1",
        "outputId": "9b51a644-70a4-423a-cdf9-38286e39e9ef"
      },
      "source": [
        "# So, We tried Naive Bayes, Logistic Regression, SVM, Random Forest, KNN and the most accurate one appears to be :Logistic Regression\n",
        "import seaborn as sns\n",
        "algo_name=['Naive Bayes Classifier','Logistic Regression','SVM','Random Forest Classifier','Decision Tree','KNN']\n",
        "acc=np.array(acc)\n",
        "from numpy import median\n",
        "plt.figure(figsize=(10,8))\n",
        "sns.barplot(y=acc*100,x=algo_name,estimator=median,palette=\"Blues_d\")\n",
        "plt.xlabel('Algorithm Name',size=30)\n",
        "plt.xticks(rotation=45)\n",
        "plt.ylabel('Accuracy',size=30)"
      ],
      "execution_count": 110,
      "outputs": [
        {
          "output_type": "execute_result",
          "data": {
            "text/plain": [
              "Text(0, 0.5, 'Accuracy')"
            ]
          },
          "metadata": {
            "tags": []
          },
          "execution_count": 110
        },
        {
          "output_type": "display_data",
          "data": {
            "image/png": "[encoded data removed]",
            "text/plain": [
              "<Figure size 720x576 with 1 Axes>"
            ]
          },
          "metadata": {
            "tags": [],
            "needs_background": "light"
          }
        }
      ]
    },
    {
      "cell_type": "code",
      "metadata": {
        "id": "DeLb71iSeXZo"
      },
      "source": [
        ""
      ],
      "execution_count": null,
      "outputs": []
    }
  ]
}